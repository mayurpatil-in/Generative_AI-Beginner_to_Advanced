{
 "cells": [
  {
   "cell_type": "markdown",
   "metadata": {},
   "source": [
    "Major Advantages of Using Neural Networks\n",
    "Automatic Feature Extraction Neural networks can automatically learn and \n",
    "extract features from raw data, reducing or eliminating the need for manual \n",
    "feature engineering.Handling Non-Linear Relationships Neural networks are capable of modeling \n",
    "complex, non-linear relationships between inputs and outputs, which \n",
    "traditional linear algorithms cannot capture.\n"
   ]
  },
  {
   "cell_type": "markdown",
   "metadata": {},
   "source": []
  }
 ],
 "metadata": {
  "language_info": {
   "name": "python"
  }
 },
 "nbformat": 4,
 "nbformat_minor": 2
}
